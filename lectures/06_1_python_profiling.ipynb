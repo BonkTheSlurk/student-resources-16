{
 "cells": [
  {
   "cell_type": "markdown",
   "metadata": {
    "slideshow": {
     "slide_type": "slide"
    }
   },
   "source": [
    "# Profiling\n",
    "### Finding bottlenecks in your Python program\n",
    "Simon Funke\n",
    "\n",
    "Date: **Sep 28, 2016**"
   ]
  },
  {
   "cell_type": "markdown",
   "metadata": {
    "slideshow": {
     "slide_type": "subslide"
    }
   },
   "source": [
    "## Contents\n",
    "\n",
    "* Timing\n",
    "* Profiling\n",
    "* Line-by-line profiling"
   ]
  },
  {
   "cell_type": "markdown",
   "metadata": {
    "slideshow": {
     "slide_type": "subslide"
    }
   },
   "source": [
    "  *\"First make it work. Then make it right. Then make it fast.\"* \n",
    "  \n",
    "  Kent Beck"
   ]
  },
  {
   "cell_type": "markdown",
   "metadata": {
    "slideshow": {
     "slide_type": "subslide"
    }
   },
   "source": [
    "Prior to code optimization, hotspots and bottlenecks must be located. "
   ]
  },
  {
   "cell_type": "markdown",
   "metadata": {
    "slideshow": {
     "slide_type": "subslide"
    }
   },
   "source": [
    "## Profiling allows us to measure resources used by sections of the program. "
   ]
  },
  {
   "cell_type": "markdown",
   "metadata": {
    "slideshow": {
     "slide_type": "fragment"
    }
   },
   "source": [
    "Typical resources of interest are\n",
    "* Amount of CPU used\n",
    "* Amount of RAM used"
   ]
  },
  {
   "cell_type": "markdown",
   "metadata": {
    "slideshow": {
     "slide_type": "fragment"
    }
   },
   "source": [
    "But also other resources can be measured, such as:\n",
    "\n",
    "* Disk I/O\n",
    "* Network I/O\n",
    "* ..."
   ]
  },
  {
   "cell_type": "markdown",
   "metadata": {
    "slideshow": {
     "slide_type": "subslide"
    }
   },
   "source": [
    "## Profiling techniques\n",
    "\n",
    "Start simple, switch to more complex techniques if needed!"
   ]
  },
  {
   "cell_type": "markdown",
   "metadata": {
    "slideshow": {
     "slide_type": "fragment"
    }
   },
   "source": [
    "Techniques for measuring CPU time:\n",
    "1. Manual timeing\n",
    "2. `timeit` module\n",
    "3. `profile` or `cprofile` modules"
   ]
  },
  {
   "cell_type": "markdown",
   "metadata": {
    "slideshow": {
     "slide_type": "slide"
    }
   },
   "source": [
    "## Case study: filling a grid with point values\n",
    "\n",
    "* Consider a rectangular 2D grid\n",
    "<center>![xkcd](pdf/grid_lattice.svg \"Python\")Grid lattice</center>\n",
    "* A NumPy array `a[i,j]` holds values at the grid points"
   ]
  },
  {
   "cell_type": "markdown",
   "metadata": {
    "slideshow": {
     "slide_type": "subslide"
    }
   },
   "source": [
    "# An implementation"
   ]
  },
  {
   "cell_type": "code",
   "execution_count": 1,
   "metadata": {
    "collapsed": true
   },
   "outputs": [],
   "source": [
    "from numpy import *\n",
    "\n",
    "class Grid2D(object):\n",
    "    def __init__(self,\n",
    "                 xmin=0, xmax=1, dx=0.5,\n",
    "                 ymin=0, ymax=1, dy=0.5):\n",
    "        \n",
    "        self.xcoor = arange(xmin, xmax+dx, step=dx)\n",
    "        self.ycoor = arange(ymin, ymax+dy, step=dy)\n",
    "\n",
    "    def gridloop(self, f):\n",
    "        lx = size(self.xcoor)\n",
    "        ly = size(self.ycoor)\n",
    "        a = zeros((lx,ly))\n",
    "\n",
    "        for i in range(lx):\n",
    "            x = self.xcoor[i]\n",
    "            for j in range(ly):\n",
    "                y = self.ycoor[j]\n",
    "                a[i,j] = f(x, y)\n",
    "        return a"
   ]
  },
  {
   "cell_type": "markdown",
   "metadata": {
    "slideshow": {
     "slide_type": "subslide"
    }
   },
   "source": [
    "# Usage"
   ]
  },
  {
   "cell_type": "markdown",
   "metadata": {},
   "source": [
    "Create a new grid:"
   ]
  },
  {
   "cell_type": "code",
   "execution_count": 2,
   "metadata": {
    "collapsed": false,
    "slideshow": {
     "slide_type": "-"
    }
   },
   "outputs": [],
   "source": [
    "g = Grid2D(dx=0.001, dy=0.001)"
   ]
  },
  {
   "cell_type": "markdown",
   "metadata": {
    "slideshow": {
     "slide_type": "fragment"
    }
   },
   "source": [
    "Computing grid values:"
   ]
  },
  {
   "cell_type": "code",
   "execution_count": 3,
   "metadata": {
    "collapsed": false,
    "slideshow": {
     "slide_type": "fragment"
    }
   },
   "outputs": [
    {
     "name": "stdout",
     "output_type": "stream",
     "text": [
      "Computing values...\n",
      "done\n"
     ]
    }
   ],
   "source": [
    "import numpy\n",
    "def myfunc(x, y):\n",
    "    return numpy.sin(x*y) + y\n",
    "\n",
    "print(\"Computing values...\")\n",
    "a = g.gridloop(myfunc)\n",
    "print(\"done\")"
   ]
  },
  {
   "cell_type": "markdown",
   "metadata": {
    "slideshow": {
     "slide_type": "fragment"
    }
   },
   "source": [
    "Getting grid values at a specific point:"
   ]
  },
  {
   "cell_type": "code",
   "execution_count": 4,
   "metadata": {
    "collapsed": false,
    "slideshow": {
     "slide_type": "fragment"
    }
   },
   "outputs": [
    {
     "name": "stdout",
     "output_type": "stream",
     "text": [
      "value at (1.0, 1.0) is 1.8414709848078965\n"
     ]
    }
   ],
   "source": [
    "i=1000\n",
    "j=1000\n",
    "print('value at ({}, {}) is {}'.format(g.xcoor[i], g.ycoor[j], a[i,j]))"
   ]
  },
  {
   "cell_type": "markdown",
   "metadata": {
    "slideshow": {
     "slide_type": "slide"
    }
   },
   "source": [
    "# Timing"
   ]
  },
  {
   "cell_type": "markdown",
   "metadata": {
    "slideshow": {
     "slide_type": "fragment"
    }
   },
   "source": [
    "Use `time.time()` to measure the time spend in a code section.\n",
    "  ```python\n",
    "  t0 = time.time()\n",
    "  # execute code here\n",
    "  t1 = time.time()\n",
    "  print(\"Runtime: {}\".format(t1-t0))\n",
    "  ```\n",
    "  "
   ]
  },
  {
   "cell_type": "markdown",
   "metadata": {
    "slideshow": {
     "slide_type": "fragment"
    }
   },
   "source": [
    "* Simple statements should be placed in a loop.\n",
    "* Make sure to use a constant machine load.\n",
    "* Run the tests several times, choose the fastest."
   ]
  },
  {
   "cell_type": "markdown",
   "metadata": {
    "slideshow": {
     "slide_type": "fragment"
    }
   },
   "source": [
    "*Note*: `time.time` measures wall clock time. Use `time.clock()` to measure CPU time."
   ]
  },
  {
   "cell_type": "markdown",
   "metadata": {
    "slideshow": {
     "slide_type": "subslide"
    }
   },
   "source": [
    "## Timing of the case study"
   ]
  },
  {
   "cell_type": "markdown",
   "metadata": {},
   "source": [
    "The case study has two parts that could potentially be slow: \n",
    "1. The initialisation `Grid2D(dx=0.001, dy=0.001)`\n",
    "2. Calling the `g.gridloop(myfunc)` function."
   ]
  },
  {
   "cell_type": "markdown",
   "metadata": {
    "slideshow": {
     "slide_type": "fragment"
    }
   },
   "source": [
    "We time these two parts separately to figure out how much time is spend in each."
   ]
  },
  {
   "cell_type": "markdown",
   "metadata": {
    "slideshow": {
     "slide_type": "subslide"
    }
   },
   "source": [
    "### Timing the Grid2D initialisation"
   ]
  },
  {
   "cell_type": "code",
   "execution_count": 5,
   "metadata": {
    "collapsed": false,
    "slideshow": {
     "slide_type": "fragment"
    }
   },
   "outputs": [
    {
     "name": "stdout",
     "output_type": "stream",
     "text": [
      "Experiment 1, CPU time: 0.000803 s\n",
      "Experiment 2, CPU time: 0.0002573 s\n",
      "Experiment 3, CPU time: 3.6e-05 s\n",
      "Done\n"
     ]
    }
   ],
   "source": [
    "import time\n",
    "\n",
    "for i in range(1, 4):\n",
    "    t0 = time.time()\n",
    "    g = Grid2D(dx=0.001, dy=0.001)\n",
    "    t1 = time.time()\n",
    "    print(\"Experiment {}, CPU time: {:.4} s\".format(i, t1-t0))\n",
    "print(\"Done\")"
   ]
  },
  {
   "cell_type": "markdown",
   "metadata": {
    "slideshow": {
     "slide_type": "subslide"
    }
   },
   "source": [
    "### Timing the `gridloop` function"
   ]
  },
  {
   "cell_type": "code",
   "execution_count": 6,
   "metadata": {
    "collapsed": false,
    "slideshow": {
     "slide_type": "fragment"
    }
   },
   "outputs": [
    {
     "name": "stdout",
     "output_type": "stream",
     "text": [
      "Experiment 1. CPU time: 2.211 s\n",
      "Experiment 2. CPU time: 2.191 s\n",
      "Experiment 3. CPU time: 2.151 s\n",
      "Done\n"
     ]
    }
   ],
   "source": [
    "import time\n",
    "\n",
    "for i in range(1, 4):\n",
    "    t0 = time.time()\n",
    "    g.gridloop(myfunc)\n",
    "    t1 = time.time()\n",
    "    print(\"Experiment {}. CPU time: {:.4} s\".format(i, t1-t0))\n",
    "print(\"Done\")"
   ]
  },
  {
   "cell_type": "markdown",
   "metadata": {
    "slideshow": {
     "slide_type": "fragment"
    }
   },
   "source": [
    "$=>$ The gridloop function is the cause of the slow execution!"
   ]
  },
  {
   "cell_type": "markdown",
   "metadata": {
    "slideshow": {
     "slide_type": "slide"
    }
   },
   "source": [
    "# The *timeit* module"
   ]
  },
  {
   "cell_type": "markdown",
   "metadata": {
    "slideshow": {
     "slide_type": "subslide"
    }
   },
   "source": [
    "## The *timeit* module (1)\n",
    "\n",
    "The `timeit` module provides an convienient way for measuring the CPU time of small code snippets."
   ]
  },
  {
   "cell_type": "markdown",
   "metadata": {
    "slideshow": {
     "slide_type": "fragment"
    }
   },
   "source": [
    "Usage:"
   ]
  },
  {
   "cell_type": "code",
   "execution_count": 7,
   "metadata": {
    "collapsed": false
   },
   "outputs": [
    {
     "data": {
      "text/plain": [
       "0.10410480300015479"
      ]
     },
     "execution_count": 7,
     "metadata": {},
     "output_type": "execute_result"
    }
   ],
   "source": [
    "import timeit\n",
    "timeit.timeit(stmt=\"a+=1\",setup=\"a=0\")"
   ]
  },
  {
   "cell_type": "markdown",
   "metadata": {
    "slideshow": {
     "slide_type": "fragment"
    }
   },
   "source": [
    "Adding the `number` keyword executes the statement multiple times and returns the **accumulated** runtime:"
   ]
  },
  {
   "cell_type": "code",
   "execution_count": 8,
   "metadata": {
    "collapsed": false
   },
   "outputs": [
    {
     "data": {
      "text/plain": [
       "0.0008203819998016115"
      ]
     },
     "execution_count": 8,
     "metadata": {},
     "output_type": "execute_result"
    }
   ],
   "source": [
    "timeit.timeit(stmt=\"a+=1\",setup=\"a=0\", number=10000)"
   ]
  },
  {
   "cell_type": "markdown",
   "metadata": {
    "slideshow": {
     "slide_type": "fragment"
    }
   },
   "source": [
    "Use `timeit.repeat` if you would like to repeat the experiment multiple times:"
   ]
  },
  {
   "cell_type": "code",
   "execution_count": 9,
   "metadata": {
    "collapsed": false
   },
   "outputs": [
    {
     "data": {
      "text/plain": [
       "[0.0008293860000776476,\n",
       " 0.0008342020000782213,\n",
       " 0.0011785460001192405,\n",
       " 0.0011006839995388873,\n",
       " 0.007369109999672219]"
      ]
     },
     "execution_count": 9,
     "metadata": {},
     "output_type": "execute_result"
    }
   ],
   "source": [
    "timeit.repeat(stmt=\"a+=1\",setup=\"a=0\", number=10000, repeat=5)"
   ]
  },
  {
   "cell_type": "markdown",
   "metadata": {
    "slideshow": {
     "slide_type": "subslide"
    }
   },
   "source": [
    "## The *timeit* module (2)\n",
    "\n",
    "* Automatically wraps the code in a for - loop."
   ]
  },
  {
   "cell_type": "markdown",
   "metadata": {
    "slideshow": {
     "slide_type": "fragment"
    }
   },
   "source": [
    "* Users can provide their own timer (callback):"
   ]
  },
  {
   "cell_type": "code",
   "execution_count": 10,
   "metadata": {
    "collapsed": false,
    "slideshow": {
     "slide_type": "-"
    }
   },
   "outputs": [
    {
     "data": {
      "text/plain": [
       "1.0010573863983154"
      ]
     },
     "execution_count": 10,
     "metadata": {},
     "output_type": "execute_result"
    }
   ],
   "source": [
    "timeit.timeit(stmt=\"sleep(1)\", setup=\"from time import sleep\", number=1, timer=time.time)  # Wall-clock time"
   ]
  },
  {
   "cell_type": "code",
   "execution_count": 11,
   "metadata": {
    "collapsed": false,
    "slideshow": {
     "slide_type": "-"
    }
   },
   "outputs": [
    {
     "data": {
      "text/plain": [
       "0.0021249999999994884"
      ]
     },
     "execution_count": 11,
     "metadata": {},
     "output_type": "execute_result"
    }
   ],
   "source": [
    "timeit.timeit(stmt=\"sleep(1)\", setup=\"from time import sleep\", number=1, timer=time.clock)  # CPU time"
   ]
  },
  {
   "cell_type": "markdown",
   "metadata": {
    "slideshow": {
     "slide_type": "fragment"
    }
   },
   "source": [
    "* Isolates the global namespace."
   ]
  },
  {
   "cell_type": "markdown",
   "metadata": {
    "slideshow": {
     "slide_type": "fragment"
    }
   },
   "source": [
    "* Time a user defined function:"
   ]
  },
  {
   "cell_type": "code",
   "execution_count": 12,
   "metadata": {
    "collapsed": false,
    "slideshow": {
     "slide_type": "-"
    }
   },
   "outputs": [
    {
     "data": {
      "text/plain": [
       "[2.1536645729993324,\n",
       " 2.1299967360000664,\n",
       " 2.1595836710002914,\n",
       " 2.1406238620002114,\n",
       " 2.2551878949998354]"
      ]
     },
     "execution_count": 12,
     "metadata": {},
     "output_type": "execute_result"
    }
   ],
   "source": [
    "timeit.repeat(stmt=\"g.gridloop(myfunc)\", setup=\"from __main__  import g, myfunc\", repeat=5, number=1)"
   ]
  },
  {
   "cell_type": "markdown",
   "metadata": {
    "slideshow": {
     "slide_type": "slide"
    }
   },
   "source": [
    "## Profiling modules"
   ]
  },
  {
   "cell_type": "markdown",
   "metadata": {},
   "source": [
    "A profile is a set of statistics that describes how often and for how long various parts of the program executed."
   ]
  },
  {
   "cell_type": "markdown",
   "metadata": {
    "slideshow": {
     "slide_type": "fragment"
    }
   },
   "source": [
    "There are two main (deterministic) profiling modules in Python\n",
    "\n",
    "* `profile`, written purely in Python\n",
    "* `cProfile`, a C implementation introduced in Python 2.5."
   ]
  },
  {
   "cell_type": "markdown",
   "metadata": {
    "slideshow": {
     "slide_type": "fragment"
    }
   },
   "source": [
    "The statistics from both can be formatted into reports via the `pstats` module.    "
   ]
  },
  {
   "cell_type": "markdown",
   "metadata": {
    "slideshow": {
     "slide_type": "subslide"
    }
   },
   "source": [
    "## Using the `profile` module"
   ]
  },
  {
   "cell_type": "markdown",
   "metadata": {},
   "source": [
    "* As a script: `python -m profile script.py\n",
    "`"
   ]
  },
  {
   "cell_type": "markdown",
   "metadata": {
    "slideshow": {
     "slide_type": "fragment"
    }
   },
   "source": [
    "* As a module:"
   ]
  },
  {
   "cell_type": "code",
   "execution_count": 13,
   "metadata": {
    "collapsed": false
   },
   "outputs": [],
   "source": [
    "import profile\n",
    "pr = profile.Profile()\n",
    "res = pr.run(\"g.gridloop(myfunc)\")\n",
    "pr.dump_stats(\"gridloop.prof\")  # Dump statistics to file for use with pstats"
   ]
  },
  {
   "cell_type": "markdown",
   "metadata": {
    "slideshow": {
     "slide_type": "subslide"
    }
   },
   "source": [
    "## Calibrate to avoid measuring CPU overhead"
   ]
  },
  {
   "cell_type": "markdown",
   "metadata": {},
   "source": [
    "The `profile` module needs to compensate for CPU overhead caused by internal Python function calls:"
   ]
  },
  {
   "cell_type": "markdown",
   "metadata": {
    "slideshow": {
     "slide_type": "fragment"
    }
   },
   "source": [
    "   1. Find the profiling overhead: \n",
    "     ```python\n",
    "     overhead = pr.calibrate(number)\n",
    "     ```\n",
    "   2. Remove profiling overhead:\n",
    "      ```python\n",
    "      pr = profile.Profile(bias=overhead)\n",
    "      ```"
   ]
  },
  {
   "cell_type": "markdown",
   "metadata": {
    "slideshow": {
     "slide_type": "subslide"
    }
   },
   "source": [
    "## Profile a function call while keeping its return value"
   ]
  },
  {
   "cell_type": "markdown",
   "metadata": {
    "slideshow": {
     "slide_type": "-"
    }
   },
   "source": [
    "```python\n",
    "pr = profile.Profile()\n",
    "retval = pr.runcall(func, *args, **kwargs)\n",
    "```"
   ]
  },
  {
   "cell_type": "markdown",
   "metadata": {
    "slideshow": {
     "slide_type": "subslide"
    }
   },
   "source": [
    "## Getting runtime statistics"
   ]
  },
  {
   "cell_type": "markdown",
   "metadata": {},
   "source": [
    "* We can view some runtime statistics with"
   ]
  },
  {
   "cell_type": "code",
   "execution_count": 14,
   "metadata": {
    "collapsed": false,
    "slideshow": {
     "slide_type": "-"
    }
   },
   "outputs": [
    {
     "name": "stdout",
     "output_type": "stream",
     "text": [
      "         1002009 function calls in 7.304 seconds\n",
      "\n",
      "   Ordered by: standard name\n",
      "\n",
      "   ncalls  tottime  percall  cumtime  percall filename:lineno(function)\n",
      "        1    0.000    0.000    7.304    7.304 :0(exec)\n",
      "        1    0.000    0.000    0.000    0.000 :0(setprofile)\n",
      "        1    0.002    0.002    0.002    0.002 :0(zeros)\n",
      "        1    2.977    2.977    7.304    7.304 <ipython-input-1-af8978036994>:11(gridloop)\n",
      "  1002001    4.324    0.000    4.324    0.000 <ipython-input-3-a92c08ef78a2>:2(myfunc)\n",
      "        1    0.000    0.000    7.304    7.304 <string>:1(<module>)\n",
      "        2    0.000    0.000    0.000    0.000 fromnumeric.py:2659(size)\n",
      "        1    0.000    0.000    7.304    7.304 profile:0(g.gridloop(myfunc))\n",
      "        0    0.000             0.000          profile:0(profiler)\n",
      "\n",
      "\n"
     ]
    }
   ],
   "source": [
    "res.print_stats()"
   ]
  },
  {
   "cell_type": "markdown",
   "metadata": {
    "slideshow": {
     "slide_type": "subslide"
    }
   },
   "source": [
    "## Statistics header definitions\n",
    "* **ncalls**: number of calls\n",
    "* **tottime**: total time spent in the given function excluding time made in calls to sub-functions\n",
    "* **percall**: tottime divided by ncalls\n",
    "* **cumtime**: cumulative time spent in this and all subfunctions\n",
    "* **percall**: cumtime divided by ncalls\n",
    "* **filename:lineno(function)**: information about the function"
   ]
  },
  {
   "cell_type": "markdown",
   "metadata": {
    "slideshow": {
     "slide_type": "subslide"
    }
   },
   "source": [
    "## The `cProfile` module\n",
    "\n",
    "* Similar to `profile`, but mostly implemented in C.\n",
    "* Smaller performance impact than `profile`. Overhead calibaration not required."
   ]
  },
  {
   "cell_type": "markdown",
   "metadata": {
    "slideshow": {
     "slide_type": "fragment"
    }
   },
   "source": [
    "The usage is compatible with that of `profile`:\n",
    "```python\n",
    "import cProfile\n",
    "cProfile.run('foo()', 'gridloop.prof')\n",
    "```"
   ]
  },
  {
   "cell_type": "markdown",
   "metadata": {
    "slideshow": {
     "slide_type": "fragment"
    }
   },
   "source": [
    "or to profile a script:\n",
    "```bash\n",
    "python -m cProfile my_script.py\n",
    "```"
   ]
  },
  {
   "cell_type": "markdown",
   "metadata": {
    "slideshow": {
     "slide_type": "subslide"
    }
   },
   "source": [
    "## The `pstats` module"
   ]
  },
  {
   "cell_type": "markdown",
   "metadata": {
    "slideshow": {
     "slide_type": "-"
    }
   },
   "source": [
    "There are many ways to view profiling data."
   ]
  },
  {
   "cell_type": "markdown",
   "metadata": {
    "slideshow": {
     "slide_type": "fragment"
    }
   },
   "source": [
    "The module `pstats` provides the class `Stats` for creating profiling reports:"
   ]
  },
  {
   "cell_type": "code",
   "execution_count": 15,
   "metadata": {
    "collapsed": false
   },
   "outputs": [
    {
     "name": "stdout",
     "output_type": "stream",
     "text": [
      "Wed Sep 28 07:57:58 2016    gridloop.prof\n",
      "\n",
      "         1002009 function calls in 7.304 seconds\n",
      "\n",
      "   Ordered by: internal time\n",
      "   List reduced from 9 to 3 due to restriction <3>\n",
      "\n",
      "   ncalls  tottime  percall  cumtime  percall filename:lineno(function)\n",
      "  1002001    4.324    0.000    4.324    0.000 <ipython-input-3-a92c08ef78a2>:2(myfunc)\n",
      "        1    2.977    2.977    7.304    7.304 <ipython-input-1-af8978036994>:11(gridloop)\n",
      "        1    0.002    0.002    0.002    0.002 :0(zeros)\n",
      "\n",
      "\n"
     ]
    },
    {
     "data": {
      "text/plain": [
       "<pstats.Stats at 0x7fbe38254a20>"
      ]
     },
     "execution_count": 15,
     "metadata": {},
     "output_type": "execute_result"
    }
   ],
   "source": [
    "import pstats\n",
    "stats = pstats.Stats(\"gridloop.prof\")\n",
    "stats.sort_stats(\"time\")\n",
    "stats.print_stats(3)"
   ]
  },
  {
   "cell_type": "markdown",
   "metadata": {
    "slideshow": {
     "slide_type": "fragment"
    }
   },
   "source": [
    "* The method `sort_stats(key, *keys)` is used to sort future output.\n",
    "* Common used keys: `'calls', 'cumulative', 'time'`.\n",
    "* The argument to `print_stats` limits the view to the N most significant results."
   ]
  },
  {
   "cell_type": "markdown",
   "metadata": {
    "slideshow": {
     "slide_type": "subslide"
    }
   },
   "source": [
    "## Back to our case-study: What have we learned so far?"
   ]
  },
  {
   "cell_type": "markdown",
   "metadata": {
    "slideshow": {
     "slide_type": "fragment"
    }
   },
   "source": [
    "The total runtime (with `profile`) is 8.1s. Biggest contributors:\n",
    "   1. `gridloop` contributes ca 41% of the total runtime.\n",
    "   2. `myfunc` calls contributes ca 55% of the total runtime."
   ]
  },
  {
   "cell_type": "markdown",
   "metadata": {
    "slideshow": {
     "slide_type": "fragment"
    }
   },
   "source": [
    "* `myfunc` is fairly straight-forward\n",
    "  ```python\n",
    "  def myfunc(x, y):\n",
    "    return sin(x*y) + y\n",
    "  ```\n",
    "  Might be difficult to improve.\n",
    "* What about `gridloop`?"
   ]
  },
  {
   "cell_type": "markdown",
   "metadata": {
    "slideshow": {
     "slide_type": "subslide"
    }
   },
   "source": [
    "## Recall that, `gridloop` was a function of the form"
   ]
  },
  {
   "cell_type": "markdown",
   "metadata": {
    "slideshow": {
     "slide_type": "-"
    }
   },
   "source": [
    "```python\n",
    "def gridloop(self, f):\n",
    "    lx = size(self.xcoor)\n",
    "    ly = size(self.ycoor)\n",
    "    a = zeros((lx,ly))\n",
    "\n",
    "    for i in range(lx):\n",
    "        x = self.xcoor[i]\n",
    "        for j in range(ly):\n",
    "            y = self.ycoor[j]\n",
    "             a[i,j] = f(x, y)\n",
    "    return a\n",
    "```"
   ]
  },
  {
   "cell_type": "markdown",
   "metadata": {},
   "source": [
    "It would be useful to see how much time is spend in each line!"
   ]
  },
  {
   "cell_type": "markdown",
   "metadata": {
    "slideshow": {
     "slide_type": "slide"
    }
   },
   "source": [
    "## Line by line profiling"
   ]
  },
  {
   "cell_type": "markdown",
   "metadata": {},
   "source": [
    "The `line_profiler` inspects the time spend in each line of a Python function. "
   ]
  },
  {
   "cell_type": "markdown",
   "metadata": {
    "slideshow": {
     "slide_type": "subslide"
    }
   },
   "source": [
    "## Usage\n",
    "\n",
    "1. Install with `pip install line_profiler`\n",
    "2. \"Decorate\" the function of interest with `@profile`:\n",
    "    ```python\n",
    "    @profile\n",
    "    def gridloop(func):\n",
    "        # ...\n",
    "    ```\n",
    "3. Run line profiler with:\n",
    "    ```bash\n",
    "    kernprof -l -v grid2d_lineprofile.py\n",
    "    ```"
   ]
  },
  {
   "cell_type": "markdown",
   "metadata": {
    "slideshow": {
     "slide_type": "subslide"
    }
   },
   "source": [
    "## Demo"
   ]
  },
  {
   "cell_type": "code",
   "execution_count": 16,
   "metadata": {
    "collapsed": false
   },
   "outputs": [
    {
     "name": "stdout",
     "output_type": "stream",
     "text": [
      "Wrote profile results to grid2d_lineprofile.py.lprof\r\n",
      "Timer unit: 1e-06 s\r\n",
      "\r\n",
      "Total time: 5.41725 s\r\n",
      "File: grid2d_lineprofile.py\r\n",
      "Function: gridloop at line 11\r\n",
      "\r\n",
      "Line #      Hits         Time  Per Hit   % Time  Line Contents\r\n",
      "==============================================================\r\n",
      "    11                                               @profile\r\n",
      "    12                                               def gridloop(self, f):\r\n",
      "    13         1            8      8.0      0.0          lx = size(self.xcoor)\r\n",
      "    14         1            3      3.0      0.0          ly = size(self.ycoor)\r\n",
      "    15         1           16     16.0      0.0          a = zeros((lx,ly))\r\n",
      "    16                                           \r\n",
      "    17      1002          921      0.9      0.0          for i in range(lx):\r\n",
      "    18      1001         1381      1.4      0.0              x = self.xcoor[i]\r\n",
      "    19   1003002       920954      0.9     17.0              for j in range(ly):\r\n",
      "    20   1002001      1113058      1.1     20.5                  y = self.ycoor[j]\r\n",
      "    21   1002001      3380906      3.4     62.4                  a[i,j] = f(x, y)\r\n",
      "    22         1            0      0.0      0.0          return a\r\n",
      "\r\n"
     ]
    }
   ],
   "source": [
    "!kernprof -l -v grid2d_lineprofile.py"
   ]
  },
  {
   "cell_type": "markdown",
   "metadata": {
    "slideshow": {
     "slide_type": "skip"
    }
   },
   "source": [
    "**Conclusion:** Most of the time is spend in loops and indexing."
   ]
  },
  {
   "cell_type": "markdown",
   "metadata": {
    "slideshow": {
     "slide_type": "slide"
    }
   },
   "source": [
    "## A vectorised Grid2D implementation"
   ]
  },
  {
   "cell_type": "code",
   "execution_count": 25,
   "metadata": {
    "collapsed": true
   },
   "outputs": [],
   "source": [
    "class VectorisedGrid2D(object):\n",
    "    def __init__(self,\n",
    "                 xmin=0, xmax=1, dx=0.5,\n",
    "                 ymin=0, ymax=1, dy=0.5):\n",
    "        \n",
    "        self.xcoor = arange(xmin, xmax+dx, step=dx)\n",
    "        self.ycoor = arange(ymin, ymax+dy, step=dy)\n",
    "\n",
    "    def gridloop(self, f):\n",
    "        return f(self.xcoor[:,None], self.ycoor[None,:])  # Vectorized grid evaluation "
   ]
  },
  {
   "cell_type": "markdown",
   "metadata": {
    "slideshow": {
     "slide_type": "subslide"
    }
   },
   "source": [
    "## Timing the vectorised Grid2D"
   ]
  },
  {
   "cell_type": "code",
   "execution_count": 18,
   "metadata": {
    "collapsed": false
   },
   "outputs": [
    {
     "data": {
      "text/plain": [
       "[0.041407845000321686,\n",
       " 0.03810606099978031,\n",
       " 0.04441619499993976,\n",
       " 0.04633354900033737,\n",
       " 0.031899565999992774]"
      ]
     },
     "execution_count": 18,
     "metadata": {},
     "output_type": "execute_result"
    }
   ],
   "source": [
    "vg = VectorisedGrid2D(dx=0.001, dy=0.001)\n",
    "timeit.repeat(stmt=\"vg.gridloop(myfunc)\", setup=\"from __main__  import vg, myfunc\", repeat=5, number=1)"
   ]
  },
  {
   "cell_type": "code",
   "execution_count": 19,
   "metadata": {
    "collapsed": false,
    "slideshow": {
     "slide_type": "fragment"
    }
   },
   "outputs": [
    {
     "data": {
      "text/plain": [
       "[2.3727056870002343,\n",
       " 2.1439694939999754,\n",
       " 2.283421305000047,\n",
       " 2.135097770000357,\n",
       " 2.1117607240003053]"
      ]
     },
     "execution_count": 19,
     "metadata": {},
     "output_type": "execute_result"
    }
   ],
   "source": [
    "g = Grid2D(dx=0.001, dy=0.001)\n",
    "timeit.repeat(stmt=\"g.gridloop(myfunc)\", setup=\"from __main__  import g, myfunc\", repeat=5, number=1)"
   ]
  },
  {
   "cell_type": "markdown",
   "metadata": {
    "slideshow": {
     "slide_type": "fragment"
    }
   },
   "source": [
    "**Vectorization yields a 70 times speed improvement!**"
   ]
  }
 ],
 "metadata": {
  "celltoolbar": "Slideshow",
  "kernelspec": {
   "display_name": "Python 3",
   "language": "python",
   "name": "python3"
  },
  "language_info": {
   "codemirror_mode": {
    "name": "ipython",
    "version": 3
   },
   "file_extension": ".py",
   "mimetype": "text/x-python",
   "name": "python",
   "nbconvert_exporter": "python",
   "pygments_lexer": "ipython3",
   "version": "3.5.2"
  },
  "livereveal": {
   "scroll": true,
   "start_slideshow_at": "selected",
   "theme": "serif"
  }
 },
 "nbformat": 4,
 "nbformat_minor": 0
}
