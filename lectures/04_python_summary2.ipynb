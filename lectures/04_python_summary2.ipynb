{
 "cells": [
  {
   "cell_type": "markdown",
   "metadata": {
    "slideshow": {
     "slide_type": "slide"
    }
   },
   "source": [
    "# Introduction to Python 3, part 2\n",
    "Hans Petter Langtangen, Joakim Sundnes, Ola Skavhaug, Simon Funke\n",
    "\n",
    "Date: **Sep 14, 2015**"
   ]
  },
  {
   "cell_type": "markdown",
   "metadata": {
    "slideshow": {
     "slide_type": "slide"
    }
   },
   "source": [
    "## Contents\n",
    "\n",
    "* Classes in Python\n",
    "  * Class syntax and inheritance\n",
    "  * Special attributes and methods\n",
    "  * Static attributes\n",
    "  * Properties\n",
    "* Scope - The lifetime of variables\n",
    "* Testing  "
   ]
  },
  {
   "cell_type": "markdown",
   "metadata": {
    "slideshow": {
     "slide_type": "slide"
    }
   },
   "source": [
    "## But first: some general updates\n",
    "\n",
    "Assignment 3:\n",
    "* Deadline for assignment 3 is this Sunday (18th Sept.)\n",
    "\n",
    "\n",
    "Assignment 4:\n",
    "* Will be published on Sunday\n",
    "* 3 week deadline (9th Oct) + 1 week peer-review\n",
    "* Topic: Numerical Python"
   ]
  },
  {
   "cell_type": "markdown",
   "metadata": {
    "slideshow": {
     "slide_type": "slide"
    }
   },
   "source": [
    "# Classes in Python"
   ]
  },
  {
   "cell_type": "markdown",
   "metadata": {
    "slideshow": {
     "slide_type": "subslide"
    }
   },
   "source": [
    "## More information\n",
    "  * [The Python tutorial, chapter 9](https://docs.python.org/3/tutorial/classes.html)\n",
    "  * [Think Python, chapters 15](http://greenteapress.com/wp/think-python-2e/)\n",
    "  * [Effective Computation in Physics (Python 2)](http://shop.oreilly.com/product/0636920033424.do)\n",
    "  * Ch. 2 in *Illustrating Python via bioinformatics examples*, [PDF](http://www.uio.no/studier/emner/matnat/ifi/INF3331/h14/lectures/bioinf-py-2.pdf) (Python 2)"
   ]
  },
  {
   "cell_type": "markdown",
   "metadata": {
    "slideshow": {
     "slide_type": "subslide"
    }
   },
   "source": [
    "## Classes in Python\n",
    "\n",
    "* Similar class concept as in Java and C++\n",
    "* Class programming is easier and faster than in C++ and Java:\n",
    "  * All functions are virtual\n",
    "  * No private/protected variables (the effect can be \"simulated\")\n",
    "* Single and multiple inheritance\n",
    "* Everything in Python is an object, even the source code"
   ]
  },
  {
   "cell_type": "code",
   "execution_count": null,
   "metadata": {
    "collapsed": false,
    "slideshow": {
     "slide_type": "-"
    }
   },
   "outputs": [],
   "source": [
    "a = 1\n",
    "help(a)"
   ]
  },
  {
   "cell_type": "markdown",
   "metadata": {
    "slideshow": {
     "slide_type": "subslide"
    }
   },
   "source": [
    "## Declaring a new Python class\n",
    "\n",
    "Declare a new class `MyBase`:"
   ]
  },
  {
   "cell_type": "code",
   "execution_count": null,
   "metadata": {
    "collapsed": false
   },
   "outputs": [],
   "source": [
    "class MyBase(object):\n",
    "    \"\"\" Docstring \"\"\"\n",
    "    def __init__(self,i, j):  # constructor\n",
    "        self.i = i            # class variable\n",
    "        self.j = j            # class variable\n",
    "\n",
    "    def write(self):          # member function\n",
    "        print('MyBase: i={0}, j={1}'.format(self.i, self.j))   # access \n",
    "                                                    # member attributes"
   ]
  },
  {
   "cell_type": "markdown",
   "metadata": {},
   "source": [
    "* `MyBase` is derived from the `object` base class.\n",
    "* `self` is a reference to this object.\n",
    "* Class variables are prefixed by `self`:\n",
    "  `self.i`, `self.j`\n",
    "* Class functions take `self` as first argument."
   ]
  },
  {
   "cell_type": "markdown",
   "metadata": {
    "slideshow": {
     "slide_type": "subslide"
    }
   },
   "source": [
    "## Using a Python class\n",
    "\n",
    "Instantiating the class calls the `__init__` constructor and returns a new object:"
   ]
  },
  {
   "cell_type": "code",
   "execution_count": null,
   "metadata": {
    "collapsed": true
   },
   "outputs": [],
   "source": [
    "my_object = MyBase(6, 9)"
   ]
  },
  {
   "cell_type": "markdown",
   "metadata": {
    "slideshow": {
     "slide_type": "fragment"
    }
   },
   "source": [
    "Accessing class attributes:"
   ]
  },
  {
   "cell_type": "code",
   "execution_count": null,
   "metadata": {
    "collapsed": false
   },
   "outputs": [],
   "source": [
    "my_object.i\n",
    "my_object.write()"
   ]
  },
  {
   "cell_type": "markdown",
   "metadata": {
    "slideshow": {
     "slide_type": "fragment"
    }
   },
   "source": [
    "**Note**: When calling class functions, the `self` argument in the declaration is neglected:"
   ]
  },
  {
   "cell_type": "markdown",
   "metadata": {
    "slideshow": {
     "slide_type": "fragment"
    }
   },
   "source": [
    "Use `dir` to list all attributes of an object:"
   ]
  },
  {
   "cell_type": "code",
   "execution_count": null,
   "metadata": {
    "collapsed": false
   },
   "outputs": [],
   "source": [
    "dir(my_object)"
   ]
  },
  {
   "cell_type": "markdown",
   "metadata": {
    "slideshow": {
     "slide_type": "slide"
    }
   },
   "source": [
    "## Implementing a subclass\n",
    "Class `MySub` is a subclass of `MyBase`:"
   ]
  },
  {
   "cell_type": "code",
   "execution_count": 2,
   "metadata": {
    "collapsed": false
   },
   "outputs": [
    {
     "ename": "NameError",
     "evalue": "name 'MyBase' is not defined",
     "output_type": "error",
     "traceback": [
      "\u001b[0;31m---------------------------------------------------------------------------\u001b[0m",
      "\u001b[0;31mNameError\u001b[0m                                 Traceback (most recent call last)",
      "\u001b[0;32m<ipython-input-2-c197bcbe923d>\u001b[0m in \u001b[0;36m<module>\u001b[0;34m()\u001b[0m\n\u001b[0;32m----> 1\u001b[0;31m \u001b[0;32mclass\u001b[0m \u001b[0mMySub\u001b[0m\u001b[0;34m(\u001b[0m\u001b[0mMyBase\u001b[0m\u001b[0;34m)\u001b[0m\u001b[0;34m:\u001b[0m     \u001b[0;31m# Inherit MySub for MyBase\u001b[0m\u001b[0;34m\u001b[0m\u001b[0m\n\u001b[0m\u001b[1;32m      2\u001b[0m \u001b[0;34m\u001b[0m\u001b[0m\n\u001b[1;32m      3\u001b[0m     \u001b[0;32mdef\u001b[0m \u001b[0m__init__\u001b[0m\u001b[0;34m(\u001b[0m\u001b[0mself\u001b[0m\u001b[0;34m,\u001b[0m \u001b[0mi\u001b[0m\u001b[0;34m,\u001b[0m \u001b[0mj\u001b[0m\u001b[0;34m,\u001b[0m \u001b[0mk\u001b[0m\u001b[0;34m)\u001b[0m\u001b[0;34m:\u001b[0m     \u001b[0;31m# Constructor\u001b[0m\u001b[0;34m\u001b[0m\u001b[0m\n\u001b[1;32m      4\u001b[0m         \u001b[0mMyBase\u001b[0m\u001b[0;34m.\u001b[0m\u001b[0m__init__\u001b[0m\u001b[0;34m(\u001b[0m\u001b[0mself\u001b[0m\u001b[0;34m,\u001b[0m \u001b[0mi\u001b[0m\u001b[0;34m,\u001b[0m \u001b[0mj\u001b[0m\u001b[0;34m)\u001b[0m  \u001b[0;31m# Call the base constructur\u001b[0m\u001b[0;34m\u001b[0m\u001b[0m\n\u001b[1;32m      5\u001b[0m         \u001b[0mself\u001b[0m\u001b[0;34m.\u001b[0m\u001b[0mk\u001b[0m \u001b[0;34m=\u001b[0m \u001b[0mk\u001b[0m                   \u001b[0;31m# Add a new class variable\u001b[0m\u001b[0;34m\u001b[0m\u001b[0m\n",
      "\u001b[0;31mNameError\u001b[0m: name 'MyBase' is not defined"
     ]
    }
   ],
   "source": [
    "class MySub(MyBase):     # Inherit MySub for MyBase\n",
    "\n",
    "    def __init__(self, i, j, k):     # Constructor\n",
    "        MyBase.__init__(self, i, j)  # Call the base constructur\n",
    "        self.k = k                   # Add a new class variable\n",
    "\n",
    "    def write(self):\n",
    "        print('MyBase: i={0}, j={1}, k={2}'.format(self.i, self.j, \\\n",
    "               self.k))"
   ]
  },
  {
   "cell_type": "markdown",
   "metadata": {
    "slideshow": {
     "slide_type": "fragment"
    }
   },
   "source": [
    "Example usage:"
   ]
  },
  {
   "cell_type": "code",
   "execution_count": null,
   "metadata": {
    "collapsed": false
   },
   "outputs": [],
   "source": [
    "# make a MySub instance\n",
    "mysub_obj = MySub(7, 8, 9)\n",
    "mysub_obj.write()   # will call MySub's write"
   ]
  },
  {
   "cell_type": "markdown",
   "metadata": {
    "slideshow": {
     "slide_type": "subslide"
    }
   },
   "source": [
    "## Comment on object-orientation\n",
    "Consider"
   ]
  },
  {
   "cell_type": "code",
   "execution_count": null,
   "metadata": {
    "collapsed": false
   },
   "outputs": [],
   "source": [
    "# this function works with any object that has a write func\n",
    "def write(v):\n",
    "    v.write()\n",
    "\n",
    "write(mysub_obj)   # mysub_obj is MySub instance"
   ]
  },
  {
   "cell_type": "markdown",
   "metadata": {
    "slideshow": {
     "slide_type": "fragment"
    }
   },
   "source": [
    "* In C++/Java we would declare `v` as a `MyBase` reference and rely on `mysub_obj.write()` to call the virtual function `write` in `MySub`.\n",
    "* The same works in Python, but we do not need inheritance and virtual functions here: `v.write()` will work for *any* object `v` that has a callable attribute `write` that takes no arguments"
   ]
  },
  {
   "cell_type": "markdown",
   "metadata": {
    "slideshow": {
     "slide_type": "subslide"
    }
   },
   "source": [
    "## Testing on the class type\n",
    "Test if an instance is of class type:\n",
    "```python\n",
    "if isinstance(i2, MySub):\n",
    "    # treat i2 as a MySub instance\n",
    "```"
   ]
  },
  {
   "cell_type": "markdown",
   "metadata": {
    "slideshow": {
     "slide_type": "fragment"
    }
   },
   "source": [
    "Test if a class is a subclass of another:\n",
    "```python\n",
    "if issubclass(MySub, MyBase):\n",
    "    # MySub inherits from MyBase \n",
    "```"
   ]
  },
  {
   "cell_type": "markdown",
   "metadata": {
    "slideshow": {
     "slide_type": "fragment"
    }
   },
   "source": [
    "Test if two objects are of the same class:\n",
    "```python\n",
    "if inst1.__class__ is inst2.__class__:\n",
    "```\n",
    "(`myobj.__class__` refers the class object of instance `myobj`)"
   ]
  },
  {
   "cell_type": "markdown",
   "metadata": {
    "slideshow": {
     "slide_type": "subslide"
    }
   },
   "source": [
    "## Private/non-public data\n",
    "* In prinicpal, there is no technical way of preventing users from manipulating data and methods in an object:"
   ]
  },
  {
   "cell_type": "code",
   "execution_count": null,
   "metadata": {
    "collapsed": false
   },
   "outputs": [],
   "source": [
    "my_object.write()\n",
    "my_object.write = lambda: print(\"I dont care\")\n",
    "my_object.write()"
   ]
  },
  {
   "cell_type": "markdown",
   "metadata": {
    "slideshow": {
     "slide_type": "subslide"
    }
   },
   "source": [
    "## Private/non-public data"
   ]
  },
  {
   "cell_type": "markdown",
   "metadata": {
    "slideshow": {
     "slide_type": "-"
    }
   },
   "source": [
    "But there are some conventions: \n",
    "* Attributes **starting with one underscore** are treated as non-public (\"protected\").\n",
    "* Names **starting with one double underscore** are considered strictly private (Python mangles class name with method name in this case: `obj.__some` has actually the name `_classname__some`).\n",
    "* Names **starting and ending with double underscores** are special methods and attributes (discussed later)\n",
    "\n",
    "Here is an example..."
   ]
  },
  {
   "cell_type": "markdown",
   "metadata": {
    "slideshow": {
     "slide_type": "subslide"
    }
   },
   "source": [
    "## Private/non-public data"
   ]
  },
  {
   "cell_type": "code",
   "execution_count": null,
   "metadata": {
    "collapsed": true
   },
   "outputs": [],
   "source": [
    "class MyClass(object):\n",
    "    def __init__(self):\n",
    "        self._a = False    # non-public\n",
    "        self.b = 0         # public\n",
    "        self.__c = 0       # private\n",
    "        \n",
    "    def __hidden(self): # a private function\n",
    "        pass"
   ]
  },
  {
   "cell_type": "code",
   "execution_count": null,
   "metadata": {
    "collapsed": true,
    "slideshow": {
     "slide_type": "fragment"
    }
   },
   "outputs": [],
   "source": [
    "m = MyClass()\n",
    "m._a\n",
    "m.b"
   ]
  },
  {
   "cell_type": "code",
   "execution_count": 3,
   "metadata": {
    "collapsed": false,
    "slideshow": {
     "slide_type": "fragment"
    }
   },
   "outputs": [
    {
     "ename": "NameError",
     "evalue": "name 'm' is not defined",
     "output_type": "error",
     "traceback": [
      "\u001b[0;31m---------------------------------------------------------------------------\u001b[0m",
      "\u001b[0;31mNameError\u001b[0m                                 Traceback (most recent call last)",
      "\u001b[0;32m<ipython-input-3-5a02a73710d7>\u001b[0m in \u001b[0;36m<module>\u001b[0;34m()\u001b[0m\n\u001b[0;32m----> 1\u001b[0;31m \u001b[0mm\u001b[0m\u001b[0;34m.\u001b[0m\u001b[0m_MyClass__c\u001b[0m         \u001b[0;31m# m.__c does not exist\u001b[0m\u001b[0;34m\u001b[0m\u001b[0m\n\u001b[0m\u001b[1;32m      2\u001b[0m \u001b[0mm\u001b[0m\u001b[0;34m.\u001b[0m\u001b[0m_MyClass__hidden\u001b[0m\u001b[0;34m(\u001b[0m\u001b[0;34m)\u001b[0m  \u001b[0;31m# m.__hidden does not exist\u001b[0m\u001b[0;34m\u001b[0m\u001b[0m\n",
      "\u001b[0;31mNameError\u001b[0m: name 'm' is not defined"
     ]
    }
   ],
   "source": [
    "m._MyClass__c         # m.__c does not exist\n",
    "m._MyClass__hidden()  # m.__hidden does not exist"
   ]
  },
  {
   "cell_type": "code",
   "execution_count": null,
   "metadata": {
    "collapsed": false,
    "slideshow": {
     "slide_type": "fragment"
    }
   },
   "outputs": [],
   "source": [
    "dir(m)"
   ]
  },
  {
   "cell_type": "markdown",
   "metadata": {
    "slideshow": {
     "slide_type": "slide"
    }
   },
   "source": [
    "## Special attributes"
   ]
  },
  {
   "cell_type": "markdown",
   "metadata": {
    "slideshow": {
     "slide_type": "subslide"
    }
   },
   "source": [
    "## Special attributes"
   ]
  },
  {
   "cell_type": "markdown",
   "metadata": {},
   "source": [
    "Let's consider again our two basic classes:"
   ]
  },
  {
   "cell_type": "code",
   "execution_count": 4,
   "metadata": {
    "collapsed": false
   },
   "outputs": [
    {
     "ename": "NameError",
     "evalue": "name 'MyBase' is not defined",
     "output_type": "error",
     "traceback": [
      "\u001b[0;31m---------------------------------------------------------------------------\u001b[0m",
      "\u001b[0;31mNameError\u001b[0m                                 Traceback (most recent call last)",
      "\u001b[0;32m<ipython-input-4-f7b4e14de0f8>\u001b[0m in \u001b[0;36m<module>\u001b[0;34m()\u001b[0m\n\u001b[0;32m----> 1\u001b[0;31m \u001b[0mi1\u001b[0m \u001b[0;34m=\u001b[0m \u001b[0mMyBase\u001b[0m\u001b[0;34m(\u001b[0m\u001b[0;36m1\u001b[0m\u001b[0;34m,\u001b[0m \u001b[0;36m2\u001b[0m\u001b[0;34m)\u001b[0m\u001b[0;34m\u001b[0m\u001b[0m\n\u001b[0m\u001b[1;32m      2\u001b[0m \u001b[0mi2\u001b[0m \u001b[0;34m=\u001b[0m \u001b[0mMySub\u001b[0m\u001b[0;34m(\u001b[0m\u001b[0;36m1\u001b[0m\u001b[0;34m,\u001b[0m \u001b[0;36m2\u001b[0m\u001b[0;34m,\u001b[0m \u001b[0;36m3\u001b[0m\u001b[0;34m)\u001b[0m\u001b[0;34m\u001b[0m\u001b[0m\n",
      "\u001b[0;31mNameError\u001b[0m: name 'MyBase' is not defined"
     ]
    }
   ],
   "source": [
    "i1 = MyBase(1, 2)\n",
    "i2 = MySub(1, 2, 3)"
   ]
  },
  {
   "cell_type": "markdown",
   "metadata": {},
   "source": [
    "Listing all methods and attributes with `dir` reveils that these instances have already some *special* attributes:"
   ]
  },
  {
   "cell_type": "code",
   "execution_count": null,
   "metadata": {
    "collapsed": false
   },
   "outputs": [],
   "source": [
    "dir(i2)"
   ]
  },
  {
   "cell_type": "markdown",
   "metadata": {
    "slideshow": {
     "slide_type": "subslide"
    }
   },
   "source": [
    "## Let's inspect some of these special attributes"
   ]
  },
  {
   "cell_type": "code",
   "execution_count": null,
   "metadata": {
    "collapsed": false
   },
   "outputs": [],
   "source": [
    "i1.__dict__"
   ]
  },
  {
   "cell_type": "code",
   "execution_count": null,
   "metadata": {
    "collapsed": false,
    "slideshow": {
     "slide_type": "-"
    }
   },
   "outputs": [],
   "source": [
    "i2.__dict__"
   ]
  },
  {
   "cell_type": "markdown",
   "metadata": {
    "slideshow": {
     "slide_type": "fragment"
    }
   },
   "source": [
    "**Conclusion**: `__dict__` returns a dictionary of user-defined attributes."
   ]
  },
  {
   "cell_type": "markdown",
   "metadata": {
    "slideshow": {
     "slide_type": "fragment"
    }
   },
   "source": [
    "Name of class, name of method:"
   ]
  },
  {
   "cell_type": "code",
   "execution_count": null,
   "metadata": {
    "collapsed": false
   },
   "outputs": [],
   "source": [
    "i2.__class__          # class of object"
   ]
  },
  {
   "cell_type": "code",
   "execution_count": null,
   "metadata": {
    "collapsed": false
   },
   "outputs": [],
   "source": [
    "i2.__class__.__name__ # name of class"
   ]
  },
  {
   "cell_type": "code",
   "execution_count": null,
   "metadata": {
    "collapsed": false
   },
   "outputs": [],
   "source": [
    "i2.write.__name__     # name of method"
   ]
  },
  {
   "cell_type": "markdown",
   "metadata": {
    "slideshow": {
     "slide_type": "subslide"
    }
   },
   "source": [
    "## Special methods\n",
    "* Special methods have leading and trailing double underscores.\n",
    "* If implemented, Python calls these special  methods on certain operations. \n",
    "* Here are some operations defined by special methods:\n",
    "```python\n",
    "str(a)            # calls a.__str__(), called also with print(a)!\n",
    "len(a)            # calls a.__len__()\n",
    "c = a*b           # calls c = a.__mul__(b)\n",
    "a = a+b           # calls a = a.__add__(b)\n",
    "a += c            # calls a.__iadd__(c)\n",
    "d = a[3]          # calls d = a.__getitem__(3)\n",
    "a[3] = 0          # calls a.__setitem__(3, 0)\n",
    "f = a(1.2, True)  # calls f = a.__call__(1.2, True)\n",
    "if a:             # calls if a.__len__()> 0: or if a.__nonzero__():\n",
    "a == b            # calls a.__eq__(self, b)\n",
    "```\n",
    "\n",
    "A complete list is avaible here: [Python reference - Data model](https://docs.python.org/3/reference/datamodel.html)"
   ]
  },
  {
   "cell_type": "markdown",
   "metadata": {
    "slideshow": {
     "slide_type": "slide"
    }
   },
   "source": [
    "## Example: functions with extra parameters\n",
    "\n",
    "Suppose we need a function of `x` and `y` with three additional parameters `a`, `b`, and `c`:"
   ]
  },
  {
   "cell_type": "code",
   "execution_count": null,
   "metadata": {
    "collapsed": false
   },
   "outputs": [],
   "source": [
    "def f(x, y, a, b, c):\n",
    "    return a + b*x + c*y*y"
   ]
  },
  {
   "cell_type": "markdown",
   "metadata": {},
   "source": [
    "Suppose we need to send this function to another function"
   ]
  },
  {
   "cell_type": "code",
   "execution_count": null,
   "metadata": {
    "collapsed": false
   },
   "outputs": [],
   "source": [
    "def gridvalues(f, xcoor, ycoor, file):\n",
    "    for i in range(len(xcoor)):\n",
    "        for j in range(len(ycoor)):\n",
    "            fval = f(xcoor[i], ycoor[j])\n",
    "            file.write('%g %g %g\\n' % (xcoor[i], ycoor[j], fval))"
   ]
  },
  {
   "cell_type": "markdown",
   "metadata": {},
   "source": [
    "* `func` is expected to be a function of `x` and `y` only (many libraries need to make such assumptions!)\n",
    "* How can we send our `f` function to `gridvalues`?"
   ]
  },
  {
   "cell_type": "markdown",
   "metadata": {
    "slideshow": {
     "slide_type": "subslide"
    }
   },
   "source": [
    "## Possible (inferior) solution\n",
    "**Bad solution 1**: global parameters"
   ]
  },
  {
   "cell_type": "markdown",
   "metadata": {
    "collapsed": false
   },
   "source": [
    "```python\n",
    "global a, b, c\n",
    "#...\n",
    "def f(x, y):\n",
    "    return a + b*x + c*y*y\n",
    "\n",
    "#...\n",
    "a = 0.5;  b = 1;  c = 0.01\n",
    "gridvalues(f, xcoor, ycoor, somefile)\n",
    "```"
   ]
  },
  {
   "cell_type": "markdown",
   "metadata": {},
   "source": [
    "Global variables are usually considered evil!"
   ]
  },
  {
   "cell_type": "markdown",
   "metadata": {
    "slideshow": {
     "slide_type": "subslide"
    }
   },
   "source": [
    "## Possible (inferior) solution\n",
    "**Bad solution 2**: keyword arguments with default values"
   ]
  },
  {
   "cell_type": "markdown",
   "metadata": {
    "collapsed": false
   },
   "source": [
    "```python\n",
    "def f(x, y, a=0.5, b=1, c=0.01):\n",
    "    return a + b*x + c*y*y\n",
    "\n",
    "# ...\n",
    "gridvalues(f, xcoor, ycoor, somefile)\n",
    "```\n",
    "useless for other values of `a`, `b`, `c`"
   ]
  },
  {
   "cell_type": "markdown",
   "metadata": {
    "slideshow": {
     "slide_type": "subslide"
    }
   },
   "source": [
    "## Solution: class with `__call__` operator\n",
    "  1. Make a class with function behavior instead of a pure function.\n",
    "  2. Make the parameters class attributes.\n",
    "  3. Implement the special `__call__`  function.\n",
    "  \n",
    "Now, instances can be called as ordinary functions, but with *x* and *y* as the only formal arguments"
   ]
  },
  {
   "cell_type": "code",
   "execution_count": null,
   "metadata": {
    "collapsed": false,
    "slideshow": {
     "slide_type": "fragment"
    }
   },
   "outputs": [],
   "source": [
    "class F(object):\n",
    "    def __init__(self, a=1, b=1, c=1):\n",
    "        self.a = a\n",
    "        self.b = b\n",
    "        self.c = c\n",
    "\n",
    "    def __call__(self, x, y):    # special method!\n",
    "        return self.a + self.b*x + self.c*y*y"
   ]
  },
  {
   "cell_type": "code",
   "execution_count": null,
   "metadata": {
    "collapsed": false,
    "slideshow": {
     "slide_type": "fragment"
    }
   },
   "outputs": [],
   "source": [
    "f = F(a=0.5, c=0.01)\n",
    "# can now call f as\n",
    "v = f(0.1, 2)\n",
    "# ...\n",
    "gridvalues(f, xcoor=[], ycoor=[], file=\"somefile\")"
   ]
  },
  {
   "cell_type": "markdown",
   "metadata": {
    "slideshow": {
     "slide_type": "slide"
    }
   },
   "source": [
    "## Class variables\n",
    "Static data (or class variables) are common to all class instances."
   ]
  },
  {
   "cell_type": "code",
   "execution_count": null,
   "metadata": {
    "collapsed": false
   },
   "outputs": [],
   "source": [
    "class Point(object):\n",
    "    \" A class representing a 2D point \"\n",
    "\n",
    "    counter = 0 # static variable, counts no of instances\n",
    "    \n",
    "    def __init__(self, x, y):\n",
    "        self.x = x\n",
    "        self.y = y;\n",
    "        Point.counter += 1"
   ]
  },
  {
   "cell_type": "code",
   "execution_count": null,
   "metadata": {
    "collapsed": true,
    "slideshow": {
     "slide_type": "fragment"
    }
   },
   "outputs": [],
   "source": [
    "for i in range(1000):\n",
    "        p = Point(i*0.01, i*0.001)"
   ]
  },
  {
   "cell_type": "markdown",
   "metadata": {
    "slideshow": {
     "slide_type": "fragment"
    }
   },
   "source": [
    "Access without instance:"
   ]
  },
  {
   "cell_type": "code",
   "execution_count": null,
   "metadata": {
    "collapsed": false,
    "slideshow": {
     "slide_type": "-"
    }
   },
   "outputs": [],
   "source": [
    "Point.counter     "
   ]
  },
  {
   "cell_type": "markdown",
   "metadata": {
    "slideshow": {
     "slide_type": "fragment"
    }
   },
   "source": [
    "Access with instance:"
   ]
  },
  {
   "cell_type": "code",
   "execution_count": null,
   "metadata": {
    "collapsed": false,
    "slideshow": {
     "slide_type": "-"
    }
   },
   "outputs": [],
   "source": [
    "p.counter      "
   ]
  },
  {
   "cell_type": "markdown",
   "metadata": {
    "slideshow": {
     "slide_type": "subslide"
    }
   },
   "source": [
    "## Static methods\n",
    "Python classes also allow static methods (that is, methods that can be called without having an instance):"
   ]
  },
  {
   "cell_type": "code",
   "execution_count": null,
   "metadata": {
    "collapsed": false
   },
   "outputs": [],
   "source": [
    "class Point(object):\n",
    "    \" A class representing a 2D point \"\n",
    "    _counter = 0\n",
    "    \n",
    "    def __init__(self, x, y):\n",
    "        self.x = x; self.y = y\n",
    "        Point._counter += 1\n",
    "        \n",
    "    def ncopies():  # No need for a self argument for static methods\n",
    "        return Point._counter\n",
    "\n",
    "    ncopies = staticmethod(ncopies)"
   ]
  },
  {
   "cell_type": "markdown",
   "metadata": {
    "slideshow": {
     "slide_type": "fragment"
    }
   },
   "source": [
    "`ncopies` can be called directly from the class:"
   ]
  },
  {
   "cell_type": "code",
   "execution_count": null,
   "metadata": {
    "collapsed": false,
    "slideshow": {
     "slide_type": "-"
    }
   },
   "outputs": [],
   "source": [
    "Point.ncopies()"
   ]
  },
  {
   "cell_type": "markdown",
   "metadata": {
    "slideshow": {
     "slide_type": "fragment"
    }
   },
   "source": [
    "... or from an instance"
   ]
  },
  {
   "cell_type": "code",
   "execution_count": null,
   "metadata": {
    "collapsed": false,
    "slideshow": {
     "slide_type": "-"
    }
   },
   "outputs": [],
   "source": [
    "p = Point(0, 0)\n",
    "p.ncopies()"
   ]
  },
  {
   "cell_type": "code",
   "execution_count": null,
   "metadata": {
    "collapsed": false,
    "slideshow": {
     "slide_type": "fragment"
    }
   },
   "outputs": [],
   "source": [
    "Point.ncopies()"
   ]
  },
  {
   "cell_type": "markdown",
   "metadata": {
    "slideshow": {
     "slide_type": "slide"
    }
   },
   "source": [
    "# Attributes access and properties"
   ]
  },
  {
   "cell_type": "markdown",
   "metadata": {
    "slideshow": {
     "slide_type": "subslide"
    }
   },
   "source": [
    "## Attribute access\n",
    "\n",
    "Attributes can be directly accessed and changed from an instance:"
   ]
  },
  {
   "cell_type": "code",
   "execution_count": null,
   "metadata": {
    "collapsed": false
   },
   "outputs": [],
   "source": [
    "p = Point(0, 0)\n",
    "p.x = 2       \n",
    "a = p.x"
   ]
  },
  {
   "cell_type": "markdown",
   "metadata": {},
   "source": [
    "Alternative approach via get/set functions:"
   ]
  },
  {
   "cell_type": "code",
   "execution_count": null,
   "metadata": {
    "collapsed": false
   },
   "outputs": [],
   "source": [
    "class A(object):\n",
    "    def set_attr1(self, attr1):\n",
    "        self._attr1 = attr1        # underscore => non-public variable\n",
    "        #self._update(self._attr1)  # update internal data too\n",
    "\n",
    "    def get_attr1(self):\n",
    "        # do some internal stuff\n",
    "        return self._attr1\n",
    "\n",
    "my_object = A()\n",
    "my_object.set_attr1(True)    # Not very Pythonic :(\n",
    "a = my_object.get_attr1()    # Not very Pythonic :("
   ]
  },
  {
   "cell_type": "markdown",
   "metadata": {},
   "source": [
    "Advantage: get/set functions allow finer access control (e.g. type-checking, read-only variables). \n",
    "\n",
    "**But**: Tedious to write! Use properties instead!"
   ]
  },
  {
   "cell_type": "markdown",
   "metadata": {
    "slideshow": {
     "slide_type": "subslide"
    }
   },
   "source": [
    "## Properties\n",
    "Python 2.3 introduced \"intelligent\" assignment operators, known as\n",
    "*properties*. \n",
    "\n",
    "With properties, assignments may imply a function call:"
   ]
  },
  {
   "cell_type": "markdown",
   "metadata": {
    "collapsed": false
   },
   "source": [
    "```python\n",
    "x.set_data(mydata)\n",
    "yourdata = x.get_data()\n",
    "```\n",
    "can be made equivalent to\n",
    "```python\n",
    "x.data = mydata\n",
    "yourdata = x.data\n",
    "```"
   ]
  },
  {
   "cell_type": "markdown",
   "metadata": {
    "slideshow": {
     "slide_type": "subslide"
    }
   },
   "source": [
    "## Properties "
   ]
  },
  {
   "cell_type": "markdown",
   "metadata": {
    "slideshow": {
     "slide_type": "-"
    }
   },
   "source": [
    "Example construction:"
   ]
  },
  {
   "cell_type": "code",
   "execution_count": null,
   "metadata": {
    "collapsed": false
   },
   "outputs": [],
   "source": [
    "class MyClass(object):  \n",
    "    def set_data(self, d):\n",
    "        print(\"Setting data\")\n",
    "        self._data = d\n",
    "        # update other data structures if necessary...\n",
    "\n",
    "    def get_data(self):\n",
    "        print(\"Reading data\")\n",
    "        # ...\n",
    "        return self._data\n",
    "\n",
    "    data = property(fget=get_data, fset=set_data)"
   ]
  },
  {
   "cell_type": "code",
   "execution_count": null,
   "metadata": {
    "collapsed": false,
    "slideshow": {
     "slide_type": "-"
    }
   },
   "outputs": [],
   "source": [
    "inst = MyClass()\n",
    "inst.data = True\n",
    "x = inst.data"
   ]
  },
  {
   "cell_type": "markdown",
   "metadata": {
    "slideshow": {
     "slide_type": "subslide"
    }
   },
   "source": [
    "## Attribute access - recommended style\n",
    "\n",
    "  * Use direct access if user is allowed to read *and* assign values to the attribute\n",
    "\n",
    "  * Use properties to restrict access, with a corresponding underlying non-public class attribute\n",
    "\n",
    "  * Use properties when assignment or reading requires a set of associated operations\n",
    "\n",
    "  * Never use get/set functions explicitly\n",
    "\n",
    "  * Attributes and functions are somewhat interchanged in this scheme $\\Rightarrow$ that's why we use the same naming convention"
   ]
  },
  {
   "cell_type": "markdown",
   "metadata": {
    "slideshow": {
     "slide_type": "slide"
    }
   },
   "source": [
    "# Scope"
   ]
  },
  {
   "cell_type": "markdown",
   "metadata": {
    "slideshow": {
     "slide_type": "subslide"
    }
   },
   "source": [
    "## Scope\n",
    "The scope defines how long variables in Python *live*."
   ]
  },
  {
   "cell_type": "markdown",
   "metadata": {
    "slideshow": {
     "slide_type": "fragment"
    }
   },
   "source": [
    "#### Example\n",
    "Function arguments and variables declared inside the function have *local scope*. Once the function finishes, these variables are freed."
   ]
  },
  {
   "cell_type": "markdown",
   "metadata": {
    "slideshow": {
     "slide_type": "fragment"
    }
   },
   "source": [
    "#### Example\n",
    "Variables defined outside the function have *global scope*. These variables can be accessed and changed by the function and are accessible after the function returns."
   ]
  },
  {
   "cell_type": "markdown",
   "metadata": {
    "slideshow": {
     "slide_type": "subslide"
    }
   },
   "source": [
    "## Code example for scopes"
   ]
  },
  {
   "cell_type": "code",
   "execution_count": null,
   "metadata": {
    "collapsed": false,
    "slideshow": {
     "slide_type": "-"
    }
   },
   "outputs": [],
   "source": [
    "def f():\n",
    "    a = 1  # local scope\n",
    "    print(a)\n",
    " \n",
    "f()"
   ]
  },
  {
   "cell_type": "markdown",
   "metadata": {
    "slideshow": {
     "slide_type": "subslide"
    }
   },
   "source": [
    "## Code example for scopes"
   ]
  },
  {
   "cell_type": "code",
   "execution_count": null,
   "metadata": {
    "collapsed": false,
    "slideshow": {
     "slide_type": "-"
    }
   },
   "outputs": [],
   "source": [
    "# global scope\n",
    "a = 1 \n",
    "\n",
    "def f():\n",
    "    print(a)\n",
    "\n",
    "f()"
   ]
  },
  {
   "cell_type": "markdown",
   "metadata": {
    "slideshow": {
     "slide_type": "subslide"
    }
   },
   "source": [
    "## Code example for scopes"
   ]
  },
  {
   "cell_type": "code",
   "execution_count": null,
   "metadata": {
    "collapsed": false,
    "slideshow": {
     "slide_type": "-"
    }
   },
   "outputs": [],
   "source": [
    "# global scope\n",
    "a = 1 \n",
    "\n",
    "def f():\n",
    "    print(a)\n",
    "\n",
    "a = \"s\"\n",
    "f()"
   ]
  },
  {
   "cell_type": "markdown",
   "metadata": {
    "slideshow": {
     "slide_type": "subslide"
    }
   },
   "source": [
    "## Code example for scopes"
   ]
  },
  {
   "cell_type": "code",
   "execution_count": null,
   "metadata": {
    "collapsed": false,
    "slideshow": {
     "slide_type": "-"
    }
   },
   "outputs": [],
   "source": [
    "# global scope\n",
    "a = [\"Hello\"]\n",
    "\n",
    "def f():\n",
    "    def g():\n",
    "        a.append(\"world?\")\n",
    "    g()\n",
    "\n",
    "f()\n",
    "print(a)"
   ]
  },
  {
   "cell_type": "markdown",
   "metadata": {
    "slideshow": {
     "slide_type": "subslide"
    }
   },
   "source": [
    "## Code example for scopes"
   ]
  },
  {
   "cell_type": "code",
   "execution_count": null,
   "metadata": {
    "collapsed": false,
    "slideshow": {
     "slide_type": "-"
    }
   },
   "outputs": [],
   "source": [
    "# global scope\n",
    "a = 1 \n",
    "\n",
    "def f(x):\n",
    "    a = 2             # local variable\n",
    "\n",
    "class B(object):\n",
    "    b = 3             # static class attribute\n",
    "\n",
    "    def __init__(self):\n",
    "        self.a = 3    # class attribute\n",
    "\n",
    "    def scopes(self):\n",
    "        a = 4         # local (method) variable"
   ]
  },
  {
   "cell_type": "markdown",
   "metadata": {
    "slideshow": {
     "slide_type": "skip"
    }
   },
   "source": [
    "## Namespaces for exec and eval\n",
    "`exec` and `eval` may take dictionaries for the global and local namespace:"
   ]
  },
  {
   "cell_type": "code",
   "execution_count": null,
   "metadata": {
    "collapsed": false,
    "slideshow": {
     "slide_type": "skip"
    }
   },
   "outputs": [],
   "source": [
    "code = \"a=1\"\n",
    "exec(code, globals(), locals())\n",
    "expr = \"a+1\"\n",
    "eval(expr, globals(), locals())"
   ]
  },
  {
   "cell_type": "markdown",
   "metadata": {
    "slideshow": {
     "slide_type": "skip"
    }
   },
   "source": [
    "Example:"
   ]
  },
  {
   "cell_type": "code",
   "execution_count": null,
   "metadata": {
    "collapsed": false,
    "slideshow": {
     "slide_type": "skip"
    }
   },
   "outputs": [],
   "source": [
    "a = 8;  b = 9\n",
    "d = {'a':1, 'b':2}\n",
    "eval('a + b', d)  # yields 3"
   ]
  },
  {
   "cell_type": "markdown",
   "metadata": {
    "slideshow": {
     "slide_type": "skip"
    }
   },
   "source": [
    "and"
   ]
  },
  {
   "cell_type": "markdown",
   "metadata": {
    "collapsed": false,
    "slideshow": {
     "slide_type": "skip"
    }
   },
   "source": [
    "from math import *\n",
    "d['b'] = pi\n",
    "eval('a+sin(b)', globals(), d)  # yields 1"
   ]
  },
  {
   "cell_type": "markdown",
   "metadata": {
    "slideshow": {
     "slide_type": "skip"
    }
   },
   "source": [
    "Creating such dictionaries can be handy"
   ]
  },
  {
   "cell_type": "markdown",
   "metadata": {
    "slideshow": {
     "slide_type": "slide"
    }
   },
   "source": [
    "# Testing in Python\n",
    "Jonathan Feinberg"
   ]
  },
  {
   "cell_type": "markdown",
   "metadata": {
    "slideshow": {
     "slide_type": "subslide"
    }
   },
   "source": [
    "## Why should we test?\n",
    "\n",
    "* To check correctness of software.\n",
    "* To ensure that future changes do not break functionality.\n",
    "* To check if the software runs succesfully in a different environment (newer Python version, upgraded libraries, different operating system)"
   ]
  },
  {
   "cell_type": "markdown",
   "metadata": {
    "slideshow": {
     "slide_type": "subslide"
    }
   },
   "source": [
    "## A few options in Python\n",
    "\n",
    "* [Unittest](https://docs.python.org/3/library/unittest.html)\n",
    "\n",
    "* [Doctest](https://docs.python.org/3/library/doctest.html)\n",
    "* [Py.test](http://pytest.org/) (will be used here)"
   ]
  },
  {
   "cell_type": "markdown",
   "metadata": {
    "slideshow": {
     "slide_type": "subslide"
    }
   },
   "source": [
    "## How to use py.test"
   ]
  },
  {
   "cell_type": "markdown",
   "metadata": {
    "slideshow": {
     "slide_type": "fragment"
    }
   },
   "source": [
    "Say you have a function `func` in a file that needs testing:"
   ]
  },
  {
   "cell_type": "code",
   "execution_count": null,
   "metadata": {
    "collapsed": true,
    "slideshow": {
     "slide_type": "-"
    }
   },
   "outputs": [],
   "source": [
    "# script.py \n",
    "def func(x):\n",
    "    if x < 0:\n",
    "        return -x\n",
    "    else:\n",
    "        return x"
   ]
  },
  {
   "cell_type": "markdown",
   "metadata": {
    "slideshow": {
     "slide_type": "fragment"
    }
   },
   "source": [
    "Create a associated test file `test_script.py`:"
   ]
  },
  {
   "cell_type": "code",
   "execution_count": null,
   "metadata": {
    "collapsed": false,
    "slideshow": {
     "slide_type": "-"
    }
   },
   "outputs": [],
   "source": [
    "# test_script.py\n",
    "from script import func  # Import the function \n",
    "\n",
    "def test_funcs():        # py.test will automatically run all functions starting with test_\n",
    "    assert func(-3) == 3 # Add some tests here...\n",
    "    assert func(5) == 5  # If one of the assert's are false,\n",
    "    assert func(0) == 0  # the test will fail"
   ]
  },
  {
   "cell_type": "code",
   "execution_count": null,
   "metadata": {
    "collapsed": false
   },
   "outputs": [],
   "source": [
    "!py.test test_script.py -v"
   ]
  },
  {
   "cell_type": "markdown",
   "metadata": {
    "slideshow": {
     "slide_type": "subslide"
    }
   },
   "source": [
    "# Using py.test\n",
    "Now, lets make a mistake in our func implementation ..."
   ]
  },
  {
   "cell_type": "code",
   "execution_count": null,
   "metadata": {
    "collapsed": false
   },
   "outputs": [],
   "source": [
    "!sed -i \"s/-x/x/g\" script.py\n",
    "!cat script.py"
   ]
  },
  {
   "cell_type": "markdown",
   "metadata": {},
   "source": [
    "and run the tests again"
   ]
  },
  {
   "cell_type": "code",
   "execution_count": null,
   "metadata": {
    "collapsed": false
   },
   "outputs": [],
   "source": [
    "!py.test test_script.py -v"
   ]
  },
  {
   "cell_type": "markdown",
   "metadata": {
    "slideshow": {
     "slide_type": "subslide"
    }
   },
   "source": [
    "## Good practices\n",
    "* Add new test while you develop new features.\n",
    "* Make each test an unique stand alone example.\n",
    "* Making tests resource undemanding.\n",
    "* Run test suite before each commit-push.\n",
    "* Make test function names descriptive.\n",
    "* Quick way to learn other peoples code is through test suits."
   ]
  }
 ],
 "metadata": {
  "celltoolbar": "Slideshow",
  "kernelspec": {
   "display_name": "Python 3",
   "language": "python",
   "name": "python3"
  },
  "language_info": {
   "codemirror_mode": {
    "name": "ipython",
    "version": 3
   },
   "file_extension": ".py",
   "mimetype": "text/x-python",
   "name": "python",
   "nbconvert_exporter": "python",
   "pygments_lexer": "ipython3",
   "version": "3.5.2"
  },
  "livereveal": {
   "scroll": true,
   "start_slideshow_at": "selected",
   "theme": "serif"
  }
 },
 "nbformat": 4,
 "nbformat_minor": 0
}
